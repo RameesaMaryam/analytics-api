{
 "cells": [
  {
   "cell_type": "code",
   "execution_count": 5,
   "metadata": {},
   "outputs": [],
   "source": [
    "import requests"
   ]
  },
  {
   "cell_type": "code",
   "execution_count": 7,
   "metadata": {},
   "outputs": [
    {
     "name": "stdout",
     "output_type": "stream",
     "text": [
      "{'date': 'Thu, 20 Mar 2025 18:00:58 GMT', 'server': 'uvicorn', 'content-length': '44', 'content-type': 'application/json'}\n",
      "ok True\n",
      "{'page': '/test+', 'description': '123', 'id': 3} <class 'dict'> None\n"
     ]
    }
   ],
   "source": [
    "path = \"/api/events/\"\n",
    "base_url = \"http://localhost:8002\" # 127.0.0.1\n",
    "create_endpoint = f\"{base_url}{path}\"\n",
    "\n",
    "response = requests.post(create_endpoint, json={\"page\": \"/test+\", \"description\": '123'}) # HTTP POST\n",
    "print(response.headers)\n",
    "print('ok', response.ok)\n",
    "if response.ok:\n",
    "    data = response.json()\n",
    "    print(data, type(data), data.get('items'))\n",
    "else:\n",
    "    print(response.text)"
   ]
  },
  {
   "cell_type": "code",
   "execution_count": 21,
   "metadata": {},
   "outputs": [
    {
     "name": "stdout",
     "output_type": "stream",
     "text": [
      "{'date': 'Wed, 19 Mar 2025 21:13:15 GMT', 'server': 'uvicorn', 'content-length': '53', 'content-type': 'application/json'}\n",
      "ok True\n",
      "{'id': 12, 'page': '', 'description': 'hello world adfas'} <class 'dict'> None\n"
     ]
    }
   ],
   "source": [
    "detail_path = \"/api/events/12/\"\n",
    "detail_endpoint = f\"{base_url}{detail_path}\"\n",
    "\n",
    "response = requests.put(detail_endpoint, json={\"description\": \"hello world adfas\"}) # HTTP PUT\n",
    "print(response.headers)\n",
    "print('ok', response.ok)\n",
    "if response.ok:\n",
    "    data = response.json()\n",
    "    print(data, type(data), data.get('items'))\n",
    "else:\n",
    "    print(response.text)"
   ]
  },
  {
   "cell_type": "code",
   "execution_count": null,
   "metadata": {},
   "outputs": [],
   "source": []
  },
  {
   "cell_type": "code",
   "execution_count": null,
   "metadata": {},
   "outputs": [],
   "source": []
  },
  {
   "cell_type": "code",
   "execution_count": null,
   "metadata": {},
   "outputs": [],
   "source": []
  }
 ],
 "metadata": {
  "kernelspec": {
   "display_name": "venv",
   "language": "python",
   "name": "python3"
  },
  "language_info": {
   "codemirror_mode": {
    "name": "ipython",
    "version": 3
   },
   "file_extension": ".py",
   "mimetype": "text/x-python",
   "name": "python",
   "nbconvert_exporter": "python",
   "pygments_lexer": "ipython3",
   "version": "3.13.2"
  }
 },
 "nbformat": 4,
 "nbformat_minor": 2
}
